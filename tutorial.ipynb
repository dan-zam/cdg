{
 "cells": [
  {
   "cell_type": "markdown",
   "metadata": {},
   "source": [
    "# Tutorial to the use of `cdg` \n",
    "\n",
    "[Daniele Zambon](https://dzambon.github.io) (`daniele.zambon@usi.ch`)  \n",
    "_Università della Svizzera italiana_     \n",
    "Last Update: 16/09/2019   \n",
    "\n",
    "## Install the package\n",
    "\n",
    "You can get it from [GitHub](https://github.com/dzambon/cdg)."
   ]
  },
  {
   "cell_type": "code",
   "execution_count": 1,
   "metadata": {},
   "outputs": [
    {
     "name": "stdout",
     "output_type": "stream",
     "text": [
      "notebook prepared with cdg version: 2.1\n"
     ]
    }
   ],
   "source": [
    "import cdg\n",
    "print(\"notebook prepared with cdg version:\", cdg.__version__)"
   ]
  },
  {
   "cell_type": "markdown",
   "metadata": {},
   "source": [
    "## Demo"
   ]
  },
  {
   "cell_type": "code",
   "execution_count": 2,
   "metadata": {},
   "outputs": [
    {
     "name": "stderr",
     "output_type": "stream",
     "text": [
      "nxGED (n_jobs=2): 100%|██████████| 2500/2500 [00:09<00:00, 274.48it/s]\n",
      "prot. sel. annealing: 100%|██████████| 3/3 [00:00<00:00, 522.11it/s]\n",
      "nxGED (n_jobs=2): 100%|██████████| 2500/2500 [00:07<00:00, 345.24it/s]\n"
     ]
    }
   ],
   "source": [
    "from cdg.graph import DelaunayGraphs, convert\n",
    "no_nodes = 5\n",
    "no_graphs = {0: 500, 8: 50}\n",
    "model = DelaunayGraphs()\n",
    "G = model.get(seed_points=no_nodes, classes=list(no_graphs.keys()),\n",
    "              no_graphs=no_graphs, sigma=.3, include_seed_graph=False)\n",
    "\n",
    "from cdg.graph.distance import GraphEditDistanceNX\n",
    "ged = GraphEditDistanceNX(node_cost='euclidean', n_jobs=2)\n",
    "Gnx = convert(G[0] + G[8], format_in='cdg', format_out='nx')\n",
    "G_train, G_test = Gnx[:50], Gnx[50:]\n",
    "\n",
    "from cdg.embedding import MultiDimensionalScaling\n",
    "mds = MultiDimensionalScaling(emb_dim=2, nprot=5)\n",
    "mds.fit(graphs=G_train, dist_fun=ged.get_measure_fun(verbose=True))\n",
    "x = mds.transform(G_test)\n",
    "\n",
    "from cdg.changedetection import GaussianCusum\n",
    "cdt = GaussianCusum(window_size=5, arl=20)\n",
    "cdt.fit(x[:100])\n",
    "y, g = cdt.predict(x, reset=False)\n"
   ]
  },
  {
   "cell_type": "code",
   "execution_count": 3,
   "metadata": {},
   "outputs": [
    {
     "data": {
      "text/plain": [
       "<Figure size 640x480 with 1 Axes>"
      ]
     },
     "metadata": {},
     "output_type": "display_data"
    }
   ],
   "source": [
    "import matplotlib.pyplot as plt\n",
    "plt.plot(g, 'b', label=\"cumulative sum\")\n",
    "plt.plot(g*0. + cdt.threshold, '--k', label=\"threshold\")\n",
    "plt.plot([450]*2, [g.min(), g.max()], '--r', label=\"change\")\n",
    "plt.legend()\n",
    "plt.show()"
   ]
  },
  {
   "cell_type": "markdown",
   "metadata": {},
   "source": [
    "## Change detection \n",
    "\n",
    "Let's generate a sample sequence with a change simulated at time `N_change`"
   ]
  },
  {
   "cell_type": "code",
   "execution_count": 4,
   "metadata": {},
   "outputs": [
    {
     "data": {
      "image/png": "[encoded data removed]",
      "text/plain": [
       "<Figure size 432x288 with 1 Axes>"
      ]
     },
     "metadata": {
      "needs_background": "light"
     },
     "output_type": "display_data"
    }
   ],
   "source": [
    "import numpy as np\n",
    "N = 400\n",
    "N_train = 100\n",
    "N_change = 320\n",
    "alpha = 0.01\n",
    "\n",
    "x = np.random.normal(size=(N, 1))\n",
    "x[N_change:] += 1.\n",
    "\n",
    "import matplotlib.pyplot as plt\n",
    "plt.figure()\n",
    "plt.scatter(np.arange(N), x, c='k', label=\"x(t)\")\n",
    "plt.plot([N_change]*2, [x.min(), x.max()], '--r', label=\"N_change\")\n",
    "plt.show()"
   ]
  },
  {
   "cell_type": "markdown",
   "metadata": {},
   "source": [
    "### Change-detection test\n",
    "\n",
    "Under the assumption that the process is Gaussian and i.i.d. one can use `GaussianCusum`.\n"
   ]
  },
  {
   "cell_type": "code",
   "execution_count": 5,
   "metadata": {},
   "outputs": [],
   "source": [
    "from cdg.changedetection import GaussianCusum\n",
    "cdt = GaussianCusum(arl=round(1./alpha))\n",
    "cdt.fit(x[:N_train])\n",
    "y, g = cdt.predict(x, reset=False)"
   ]
  },
  {
   "cell_type": "markdown",
   "metadata": {},
   "source": [
    "One could also proceed iterative time-step by time-step"
   ]
  },
  {
   "cell_type": "code",
   "execution_count": 6,
   "metadata": {},
   "outputs": [
    {
     "name": "stdout",
     "output_type": "stream",
     "text": [
      "An alarm is raised at time 33\n",
      "An alarm is raised at time 326\n",
      "An alarm is raised at time 354\n",
      "An alarm is raised at time 361\n",
      "An alarm is raised at time 398\n"
     ]
    }
   ],
   "source": [
    "cdt.reset()\n",
    "cdt.fit(x[:N_train])\n",
    "for t in range(N):\n",
    "    alarm, _ = cdt.iterate(x[t:t + 1])\n",
    "    if alarm:\n",
    "        print(\"An alarm is raised at time {}\".format(t))\n",
    "        cdt.reset()"
   ]
  },
  {
   "cell_type": "markdown",
   "metadata": {},
   "source": [
    "One the above assumption is not appropriate, one can:\n",
    "\n",
    "* use a windowing approach with `GaussianCusum(window_size=50)` that exploits the central limit theorem;\n",
    "* use the nonparametric `TwoSidedCusum`."
   ]
  },
  {
   "cell_type": "markdown",
   "metadata": {},
   "source": [
    "\n",
    "### Change-point method\n"
   ]
  },
  {
   "cell_type": "code",
   "execution_count": 7,
   "metadata": {},
   "outputs": [
    {
     "name": "stdout",
     "output_type": "stream",
     "text": [
      "Identified change-point: [320] with p-value: [4.4086956307864966e-13]\n"
     ]
    }
   ],
   "source": [
    "from cdg.changedetection import MuCPM\n",
    "cpm = MuCPM()\n",
    "cpm.predict(x, alpha=alpha, margin=20)\n",
    "print(\"Identified change-point:\", cpm.cps_fwer, 'with p-value:', cpm.pvals_fwer)"
   ]
  },
  {
   "cell_type": "markdown",
   "metadata": {},
   "source": [
    "## Data sets\n",
    "\n",
    "### Load a data set\n"
   ]
  },
  {
   "cell_type": "code",
   "execution_count": 8,
   "metadata": {},
   "outputs": [
    {
     "name": "stdout",
     "output_type": "stream",
     "text": [
      "Data set not there...\n"
     ]
    }
   ],
   "source": [
    "from cdg.graph import DataSet, isdataset\n",
    "path = './dataset/delaunay'\n",
    "if isdataset(path):\n",
    "    dataset = DataSet.load_dataset(path=path, name='MyDataSet')   \n",
    "else:\n",
    "    print('Data set not there...')"
   ]
  },
  {
   "cell_type": "markdown",
   "metadata": {},
   "source": [
    "\n",
    "### Generate Delaunay's triangulation graphs"
   ]
  },
  {
   "cell_type": "code",
   "execution_count": 9,
   "metadata": {},
   "outputs": [
    {
     "name": "stdout",
     "output_type": "stream",
     "text": [
      "cdg.Graph[no_nodes: 7, nf_dim: 2, ef_dim: 0](\n",
      "---Adjacency---\n",
      "[[0. 0. 1. 0. 1. 1. 1.]\n",
      " [0. 0. 1. 1. 1. 0. 1.]\n",
      " [1. 1. 0. 1. 0. 1. 1.]\n",
      " [0. 1. 1. 0. 0. 1. 0.]\n",
      " [1. 1. 0. 0. 0. 0. 1.]\n",
      " [1. 0. 1. 1. 0. 0. 0.]\n",
      " [1. 1. 1. 0. 1. 0. 0.]]\n",
      "---NodeFeatures---\n",
      "[[8.84106585 2.46721861]\n",
      " [1.1429479  5.13683779]\n",
      " [7.65771102 2.30314049]\n",
      " [1.99294489 1.42906562]\n",
      " [6.69154097 9.50241862]\n",
      " [7.91662357 1.26672989]\n",
      " [7.99898016 3.16394143]])\n"
     ]
    }
   ],
   "source": [
    "from cdg.graph import DelaunayGraphs \n",
    "no_nodes = 7\n",
    "no_graphs = 100\n",
    "model = DelaunayGraphs()\n",
    "G = model.get(seed_points=no_nodes, classes=[0, 8], \n",
    "              no_graphs=no_graphs, sigma=.3, include_seed_graph=False) \n",
    "print(G[0][0])"
   ]
  },
  {
   "cell_type": "markdown",
   "metadata": {},
   "source": [
    "\n",
    "### Generate graphs from the stochastic block model"
   ]
  },
  {
   "cell_type": "code",
   "execution_count": 10,
   "metadata": {},
   "outputs": [
    {
     "name": "stdout",
     "output_type": "stream",
     "text": [
      "cdg.Graph[no_nodes: 7, nf_dim: 0, ef_dim: 0](\n",
      "---Adjacency---\n",
      "[[0 0 0 0 0 1 0]\n",
      " [0 0 1 0 1 0 0]\n",
      " [0 1 0 0 0 0 0]\n",
      " [0 0 0 0 0 1 1]\n",
      " [0 1 0 0 0 0 0]\n",
      " [1 0 0 1 0 0 1]\n",
      " [0 0 0 1 0 1 0]])\n"
     ]
    }
   ],
   "source": [
    "from cdg.graph import StochasticBlockModel \n",
    "no_nodes = 7\n",
    "no_graphs = 100\n",
    "model = StochasticBlockModel(\n",
    "            communities=[list(range(no_nodes//2)), list(range(no_nodes//2, no_nodes))],\n",
    "            prob_matrix=[[.8, .2], [.2, .6]])\n",
    "\n",
    "G = model.get(no_graphs)\n",
    "print(G[0])"
   ]
  },
  {
   "cell_type": "markdown",
   "metadata": {},
   "source": [
    "\n",
    "### Generate graphs from the degree-corrected stochastic block model"
   ]
  },
  {
   "cell_type": "code",
   "execution_count": 11,
   "metadata": {},
   "outputs": [
    {
     "name": "stdout",
     "output_type": "stream",
     "text": [
      "cdg.Graph[no_nodes: 7, nf_dim: 0, ef_dim: 1](\n",
      "---Adjacency---\n",
      "[[1 1 0 0 0 0 1]\n",
      " [1 1 1 0 0 0 0]\n",
      " [0 1 1 0 0 0 0]\n",
      " [0 0 0 1 0 0 1]\n",
      " [0 0 0 0 1 1 1]\n",
      " [0 0 0 0 1 1 0]\n",
      " [1 0 0 1 1 0 1]]\n",
      "---EdgeFeatures---\n",
      "[[1 2 0 0 0 0 1]\n",
      " [2 1 1 0 0 0 0]\n",
      " [0 1 1 0 0 0 0]\n",
      " [0 0 0 1 0 0 1]\n",
      " [0 0 0 0 1 1 1]\n",
      " [0 0 0 0 1 1 0]\n",
      " [1 0 0 1 1 0 1]])\n"
     ]
    }
   ],
   "source": [
    "from cdg.graph import DegreeCorrectedStochasticBlockModel\n",
    "no_nodes = 7\n",
    "no_graphs = 100\n",
    "model = DegreeCorrectedStochasticBlockModel(\n",
    "    communities=[list(range(no_nodes // 2)), list(range(no_nodes // 2, no_nodes))],\n",
    "    prob_matrix=[[.8, .2], [.2, .6]],\n",
    "    delta=[0.1, 0.02])\n",
    "\n",
    "G = model.get(no_graphs)\n",
    "print(G[0])"
   ]
  },
  {
   "cell_type": "markdown",
   "metadata": {},
   "source": [
    "### Store a data set"
   ]
  },
  {
   "cell_type": "code",
   "execution_count": 12,
   "metadata": {},
   "outputs": [
    {
     "name": "stdout",
     "output_type": "stream",
     "text": [
      "Is data set there? True\n"
     ]
    }
   ],
   "source": [
    "# The path needs to be present\n",
    "path = './data/my-del'\n",
    "# Create graphs\n",
    "no_nodes = 7\n",
    "no_graphs = 100\n",
    "model = DelaunayGraphs()\n",
    "G = model.get(seed_points=no_nodes, classes=[0, 8], \n",
    "              no_graphs=no_graphs, sigma=.3, include_seed_graph=False) \n",
    "labels = np.array([0] * no_graphs + [8] * no_graphs)\n",
    "# Create data set and store it\n",
    "dataset = DataSet(graphs=G[0]+G[8], labels=labels, name='my-delaunay', store=path)\n",
    "\n",
    "print(\"Is data set there?\", isdataset(path))"
   ]
  },
  {
   "cell_type": "markdown",
   "metadata": {},
   "source": [
    "\n",
    "### Dynamic model"
   ]
  },
  {
   "cell_type": "code",
   "execution_count": 13,
   "metadata": {},
   "outputs": [],
   "source": [
    "from cdg.graph import StochasticBlockModel, DynamicsGenerator\n",
    "no_nodes = 8\n",
    "no_graphs = 100\n",
    "alpha = .5\n",
    "\n",
    "base_model = StochasticBlockModel(communities=[list(range(no_nodes))], prob_matrix=[[.3]])\n",
    "#getter = lambda : base_model.get(no_graphs=1)[0]\n",
    "#dyn_model = DynamicsGenerator(alpha=alpha, getter=getter)\n",
    "#G = dyn_model.get(no_graphs=no_graphs)"
   ]
  },
  {
   "cell_type": "markdown",
   "metadata": {},
   "source": [
    "\n",
    "## Simulations\n",
    "\n",
    "### Run a simulation of CPM\n",
    "Collect a data set\n"
   ]
  },
  {
   "cell_type": "code",
   "execution_count": 14,
   "metadata": {},
   "outputs": [
    {
     "name": "stderr",
     "output_type": "stream",
     "text": [
      "prot. sel. annealing: 100%|██████████| 3/3 [00:00<00:00, 336.12it/s]\n",
      "[Parallel(n_jobs=1)]: Using backend SequentialBackend with 1 concurrent workers.\n",
      "[Parallel(n_jobs=1)]: Done   1 out of   1 | elapsed:    0.5s finished\n",
      "prot. sel. annealing: 100%|██████████| 3/3 [00:00<00:00, 343.82it/s]\n",
      "[Parallel(n_jobs=1)]: Using backend SequentialBackend with 1 concurrent workers.\n",
      "[Parallel(n_jobs=1)]: Done   1 out of   1 | elapsed:    0.5s finished\n",
      "prot. sel. annealing: 100%|██████████| 3/3 [00:00<00:00, 378.78it/s]\n",
      "[Parallel(n_jobs=1)]: Using backend SequentialBackend with 1 concurrent workers.\n",
      "[Parallel(n_jobs=1)]: Done   1 out of   1 | elapsed:    0.5s finished\n",
      "prot. sel. annealing: 100%|██████████| 3/3 [00:00<00:00, 250.84it/s]\n",
      "[Parallel(n_jobs=1)]: Using backend SequentialBackend with 1 concurrent workers.\n",
      "[Parallel(n_jobs=1)]: Done   1 out of   1 | elapsed:    0.5s finished\n",
      "prot. sel. annealing: 100%|██████████| 3/3 [00:00<00:00, 456.90it/s]\n",
      "[Parallel(n_jobs=1)]: Using backend SequentialBackend with 1 concurrent workers.\n",
      "[Parallel(n_jobs=1)]: Done   1 out of   1 | elapsed:    0.5s finished\n",
      "prot. sel. annealing: 100%|██████████| 3/3 [00:00<00:00, 290.10it/s]\n",
      "[Parallel(n_jobs=1)]: Using backend SequentialBackend with 1 concurrent workers.\n",
      "[Parallel(n_jobs=1)]: Done   1 out of   1 | elapsed:    0.5s finished\n",
      "prot. sel. annealing: 100%|██████████| 3/3 [00:00<00:00, 239.75it/s]\n",
      "[Parallel(n_jobs=1)]: Using backend SequentialBackend with 1 concurrent workers.\n",
      "[Parallel(n_jobs=1)]: Done   1 out of   1 | elapsed:    0.5s finished\n",
      "prot. sel. annealing: 100%|██████████| 3/3 [00:00<00:00, 283.60it/s]\n",
      "[Parallel(n_jobs=1)]: Using backend SequentialBackend with 1 concurrent workers.\n",
      "[Parallel(n_jobs=1)]: Done   1 out of   1 | elapsed:    0.5s finished\n",
      "prot. sel. annealing: 100%|██████████| 3/3 [00:00<00:00, 305.83it/s]\n",
      "[Parallel(n_jobs=1)]: Using backend SequentialBackend with 1 concurrent workers.\n",
      "[Parallel(n_jobs=1)]: Done   1 out of   1 | elapsed:    0.5s finished\n",
      "prot. sel. annealing: 100%|██████████| 3/3 [00:00<00:00, 331.74it/s]\n",
      "[Parallel(n_jobs=1)]: Using backend SequentialBackend with 1 concurrent workers.\n",
      "[Parallel(n_jobs=1)]: Done   1 out of   1 | elapsed:    0.5s finished\n"
     ]
    }
   ],
   "source": [
    "from cdg.graph import StochasticBlockModel, DataSet, FrobeniusGraphDistance\n",
    "# Generate graphs\n",
    "no_nodes = 7\n",
    "no_graphs_class_0, no_graphs_class_1 = 100, 50\n",
    "model0 = StochasticBlockModel(communities=[list(range(no_nodes))],\n",
    "                              prob_matrix=[[.2]])\n",
    "model1 = StochasticBlockModel(communities=[list(range(no_nodes))],\n",
    "                              prob_matrix=[[.3]])\n",
    "graphs  = model0.get(no_graphs=no_graphs_class_0)\n",
    "graphs += model1.get(no_graphs=no_graphs_class_1)\n",
    "y = [0] * no_graphs_class_0 + [1] * no_graphs_class_1\n",
    "# Choose a distance\n",
    "frob_distance = FrobeniusGraphDistance().get_measure_fun()\n",
    "# Create an instance of cdg.DataSet\n",
    "dataset = DataSet(graphs=graphs, labels=y, name='SBM_example',\n",
    "                  distance_measure=frob_distance,\n",
    "                  store=None, class_to_label=None, kernel_measure=None)\n",
    "\n",
    "# Setup the simulation\n",
    "from cdg import SimulationCPM, ParametersCPM\n",
    "from cdg.changedetection import EnergyCPM\n",
    "from cdg.embedding import MultiDimensionalScaling\n",
    "# define the parameters of the simution\n",
    "pars = ParametersCPM()\n",
    "pars.classes = [0, 1]\n",
    "pars.subseq_lengths_t = [no_graphs_class_0, no_graphs_class_1]\n",
    "pars.significance_level = 0.01\n",
    "pars.embedding_dimension = 3\n",
    "# instance of an embedding class extending cdg.Embedding\n",
    "pars.embedding_method = MultiDimensionalScaling(emb_dim=pars.embedding_dimension)\n",
    "# freeze the parameters to make sure that nothing will change from now on.\n",
    "pars.freeze()\n",
    "# crate instance of a CPM\n",
    "cpm = EnergyCPM(repetitions=499)\n",
    "# crate the environment for assessing the performance of a CPM.\n",
    "simulation = SimulationCPM(cpm=cpm)\n",
    "simulation.set(parameters=pars, dataset=dataset, no_simulations=10, folder='./my_experiment')\n",
    "simulation.run()"
   ]
  }
 ],
 "metadata": {
  "kernelspec": {
   "display_name": "Python 3",
   "language": "python",
   "name": "python3"
  },
  "language_info": {
   "codemirror_mode": {
    "name": "ipython",
    "version": 3
   },
   "file_extension": ".py",
   "mimetype": "text/x-python",
   "name": "python",
   "nbconvert_exporter": "python",
   "pygments_lexer": "ipython3",
   "version": "3.6.8"
  }
 },
 "nbformat": 4,
 "nbformat_minor": 2
}
